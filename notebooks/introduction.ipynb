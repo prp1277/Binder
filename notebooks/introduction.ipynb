{
 "metadata": {
  "language_info": {
   "codemirror_mode": {
    "name": "ipython",
    "version": 3
   },
   "file_extension": ".py",
   "mimetype": "text/x-python",
   "name": "python",
   "nbconvert_exporter": "python",
   "pygments_lexer": "ipython3",
   "version": 3
  },
  "orig_nbformat": 2,
  "kernelspec": {
   "name": "python_defaultSpec_1596836972663",
   "display_name": "Python 3.6.9 64-bit"
  }
 },
 "nbformat": 4,
 "nbformat_minor": 2,
 "cells": [
  {
   "cell_type": "code",
   "execution_count": 1,
   "metadata": {
    "tags": []
   },
   "outputs": [
    {
     "output_type": "stream",
     "name": "stdout",
     "text": "/usr/bin/python3\n"
    }
   ],
   "source": [
    "import sys\n",
    "print(sys.executable)"
   ]
  },
  {
   "cell_type": "code",
   "execution_count": 2,
   "metadata": {
    "tags": []
   },
   "outputs": [
    {
     "output_type": "stream",
     "name": "stdout",
     "text": "Package                       Version\n----------------------------- ---------------\nadal                          1.2.3\nalabaster                     0.7.12\nappdirs                       1.4.3\nasgiref                       3.2.7\nasn1crypto                    1.3.0\nastroid                       2.4.1\nattrs                         19.3.0\nAutomat                       20.2.0\nBabel                         2.8.0\nbackcall                      0.1.0\nbandit                        1.6.2\nbeautifulsoup4                4.9.0\nblack                         19.10b0\nbleach                        3.1.5\nblinker                       1.4\nblis                          0.4.1\nbokeh                         2.0.2\nbranca                        0.3.1\nBrotli                        1.0.7\ncatalogue                     2.0.0\ncertifi                       2020.4.5.1\ncffi                          1.14.0\nchardet                       3.0.4\nclick                         7.1.2\nclick-plugins                 1.1.1\ncligj                         0.5.0\ncloud-init                    19.4\ncolorama                      0.4.3\ncommand-not-found             0.3\nconfigobj                     5.0.6\nconstantly                    15.1.0\ncryptography                  2.9.2\ncycler                        0.10.0\ncymem                         2.0.3\ndash                          1.13.4\ndash-core-components          1.10.1\ndash-html-components          1.0.3\ndash-renderer                 1.5.1\ndash-table                    4.8.1\ndecorator                     4.4.2\ndefusedxml                    0.6.0\ndistlib                       0.3.0\ndistro                        1.5.0\ndistro-info                   0.0.0\nDjango                        3.0.6\ndocutils                      0.16\nen-core-web-sm                2.2.5\nentrypoints                   0.3\net-xmlfile                    1.0.1\nfilelock                      3.0.12\nFiona                         1.8.13.post1\nflake8                        3.7.9\nFlask                         1.1.2\nFlask-Compress                1.5.0\nFlask-Session                 0.3.1\nfuture                        0.18.2\ngeographiclib                 1.50\ngeopandas                     0.7.0\ngeopy                         1.21.0\ngitdb                         4.0.5\ngitdb2                        4.0.2\nGitPython                     3.1.2\nhttplib2                      0.17.3\nhyperlink                     19.0.0\nidna                          2.9\nimagesize                     1.2.0\nimportlib-metadata            1.6.0\nimportlib-resources           1.5.0\nincremental                   17.5.0\nipykernel                     5.2.1\nipyleaflet                    0.12.4\nipython                       7.14.0\nipython-genutils              0.2.0\nipython-sql                   0.4.0\nipywidgets                    7.5.1\nisort                         4.3.21\nitsdangerous                  1.1.0\njdcal                         1.4.1\njedi                          0.17.0\njeepney                       0.4.3\nJinja2                        2.11.2\njoblib                        0.14.1\njson5                         0.9.4\njsonpatch                     1.25\njsonpointer                   2.0\njsonschema                    3.2.0\njupyter                       1.0.0\njupyter-client                6.1.3\njupyter-console               6.1.0\njupyter-core                  4.6.3\njupyter-helpers               0.1.1\njupyterlab                    2.1.2\njupyterlab-server             1.1.1\nkeyring                       21.2.1\nkeyrings.alt                  3.4.0\nkiwisolver                    1.2.0\nlanguage-selector             0.1\nlazy-object-proxy             1.4.3\nlxml                          4.5.0\nMarkupSafe                    1.1.1\nmatplotlib                    3.2.1\nmccabe                        0.6.1\nmistune                       0.8.4\nmore-itertools                8.2.0\nMouseInfo                     0.1.3\nmsal                          1.2.0\nmunch                         2.5.0\nmurmurhash                    1.0.2\nmysql-connector               2.2.9\nnbconvert                     5.6.1\nnbformat                      5.0.6\nnetifaces                     0.10.9\nnewsapi-python                0.2.6\nnltk                          3.5\nnotebook                      6.0.3\nnumpy                         1.18.4\nnumpydoc                      0.9.2\noauthlib                      3.1.0\nopenpyxl                      3.0.3\npackaging                     20.3\nPAM                           0.4.2\npandas                        1.0.3\npandas-datareader             0.8.1\npandocfilters                 1.4.2\nparso                         0.7.0\npathspec                      0.8.0\npbr                           5.4.5\npexpect                       4.8.0\npickleshare                   0.7.5\nPillow                        7.1.2\npip                           20.1.1\npip-review                    1.1.0\npipenv                        2018.11.26\nplac                          1.1.3\nplotly                        4.6.0\npowershell-kernel             0.1.3\npreshed                       3.0.2\nprettytable                   0.7.2\nprometheus-client             0.7.1\nprompt-toolkit                3.0.5\nptyprocess                    0.6.0\npyasn1                        0.4.8\npyasn1-modules                0.2.8\nPyAutoGUI                     0.9.50\npycodestyle                   2.5.0\npycparser                     2.20\npycrypto                      2.6.1\npyflakes                      2.2.0\nPyGetWindow                   0.0.8\nPygments                      2.6.1\npygobject                     3.26.1\nPyHamcrest                    2.0.2\nPyJWT                         1.7.1\npylint                        2.5.2\nPyMsgBox                      1.0.7\npyOpenSSL                     19.1.0\npyparsing                     2.4.7\npyperclip                     1.8.0\npyproj                        2.6.1.post1\nPyRect                        0.1.4\npyrsistent                    0.16.0\nPyScreeze                     0.1.26\npyserial                      3.4\npython-apt                    1.6.5+ubuntu0.3\npython-dateutil               2.8.1\npython-debian                 0.1.37\npython3-xlib                  0.15\nPyTweening                    1.0.3\npytz                          2020.1\npyxdg                         0.26\nPyYAML                        5.3.1\npyzmq                         19.0.0\nqtconsole                     4.7.3\nQtPy                          1.9.0\nregex                         2020.4.4\nrequests                      2.23.0\nrequests-oauthlib             1.3.0\nrequests-unixsocket           0.2.0\nretrying                      1.3.3\nscikit-learn                  0.22.2.post1\nscipy                         1.4.1\nSecretStorage                 3.1.2\nselenium                      3.141.0\nSend2Trash                    1.5.0\nservice-identity              18.1.0\nsetuptools                    46.1.3\nShapely                       1.7.0\nsix                           1.14.0\nsklearn                       0.0\nsmmap                         3.0.4\nsmmap2                        3.0.1\nsnowballstemmer               2.0.0\nsoupsieve                     2.0\nspacy                         2.2.4\nSphinx                        3.0.3\nsphinxcontrib-applehelp       1.0.2\nsphinxcontrib-devhelp         1.0.2\nsphinxcontrib-htmlhelp        1.0.3\nsphinxcontrib-jsmath          1.0.1\nsphinxcontrib-qthelp          1.0.3\nsphinxcontrib-serializinghtml 1.1.4\nSQLAlchemy                    1.3.18\nsqlparse                      0.3.1\nsrsly                         2.0.1\nssh-import-id                 5.10\nstevedore                     1.32.0\nsystemd-python                234\nterminado                     0.8.3\ntestpath                      0.4.4\nthinc                         7.4.0\ntoml                          0.10.0\ntornado                       6.0.4\ntqdm                          4.46.0\ntraitlets                     4.3.3\ntraittypes                    0.2.1\nTwisted                       20.3.0\ntwython                       3.8.2\ntyped-ast                     1.4.1\ntyping-extensions             3.7.4.2\nufw                           0.36\nunattended-upgrades           0.1\nurllib3                       1.25.9\nvirtualenv                    20.0.20\nvirtualenv-clone              0.5.4\nwasabi                        0.6.0\nwcwidth                       0.1.9\nwebencodings                  0.5.1\nWerkzeug                      1.0.1\nwheel                         0.34.2\nwidgetsnbextension            3.5.1\nwrapt                         1.12.1\nxarray                        0.15.1\nxml                           4.4.2\nystockquote                   0.2.5\nzipp                          3.1.0\nzope.interface                5.1.0\n\u001b[33mWARNING: You are using pip version 20.1.1; however, version 20.2.1 is available.\nYou should consider upgrading via the '/usr/bin/python -m pip install --upgrade pip' command.\u001b[0m\n"
    }
   ],
   "source": [
    "!pip list"
   ]
  }
 ]
}